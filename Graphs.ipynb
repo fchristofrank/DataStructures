{
 "cells": [
  {
   "cell_type": "code",
   "execution_count": null,
   "id": "751d797f-4cc7-41b8-8ce3-8354a61a1677",
   "metadata": {},
   "outputs": [],
   "source": [
    "from collections import deque, defaultdict\n",
    "\n",
    "# Function to perform topological sort using Kahn's Algorithm\n",
    "def topological_sort(vertices, graph):\n",
    "    # Initialize an in-degree dictionary and queue\n",
    "    in_degree = {v: 0 for v in vertices}\n",
    "    for u in graph:\n",
    "        for v in graph[u]:\n",
    "            in_degree[v] += 1\n",
    "    \n",
    "    # Initialize a queue with nodes that have 0 in-degree\n",
    "    queue = deque([v for v in vertices if in_degree[v] == 0])\n",
    "    topo_order = []\n",
    "    \n",
    "    while queue:\n",
    "        node = queue.popleft()\n",
    "        topo_order.append(node)\n",
    "        \n",
    "        # Decrease the in-degree of adjacent nodes\n",
    "        for neighbor in graph[node]:\n",
    "            in_degree[neighbor] -= 1\n",
    "            if in_degree[neighbor] == 0:\n",
    "                queue.append(neighbor)\n",
    "    \n",
    "    # If the length of topo_order is less than the number of vertices, there is a cycle\n",
    "    if len(topo_order) != len(vertices):\n",
    "        return \"The graph has a cycle.\"\n",
    "    return topo_order\n",
    "\n",
    "# Example graph\n",
    "vertices = ['A', 'B', 'C', 'D', 'E', 'F']\n",
    "graph = {\n",
    "    'A': ['B', 'C'],\n",
    "    'B': ['D'],\n",
    "    'C': ['D'],\n",
    "    'D': ['E'],\n",
    "    'E': ['F'],\n",
    "    'F': []\n",
    "}\n",
    "\n",
    "# Topological sort of the graph\n",
    "result = topological_sort(vertices, graph)\n",
    "print(\"Topological Sort:\", result)\n"
   ]
  }
 ],
 "metadata": {
  "kernelspec": {
   "display_name": "Python 3 (ipykernel)",
   "language": "python",
   "name": "python3"
  },
  "language_info": {
   "codemirror_mode": {
    "name": "ipython",
    "version": 3
   },
   "file_extension": ".py",
   "mimetype": "text/x-python",
   "name": "python",
   "nbconvert_exporter": "python",
   "pygments_lexer": "ipython3",
   "version": "3.11.0rc2"
  }
 },
 "nbformat": 4,
 "nbformat_minor": 5
}
